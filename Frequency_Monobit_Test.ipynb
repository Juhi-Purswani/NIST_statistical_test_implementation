{
 "cells": [
  {
   "cell_type": "code",
   "execution_count": 1,
   "metadata": {},
   "outputs": [],
   "source": [
    "import math"
   ]
  },
  {
   "cell_type": "code",
   "execution_count": 21,
   "metadata": {},
   "outputs": [
    {
     "name": "stdout",
     "output_type": "stream",
     "text": [
      "enter number of bits5\n",
      "Enter bits\n",
      "bit: 0\n",
      "bit: 0\n",
      "bit: 0\n",
      "bit: 0\n",
      "bit: 0\n",
      "5\n",
      "i is checked\n",
      "i is zero\n",
      "i is checked\n",
      "i is zero\n",
      "i is checked\n",
      "i is zero\n",
      "i is checked\n",
      "i is zero\n",
      "i is checked\n",
      "i is zero\n",
      "[-1, -1, -1, -1, -1]\n",
      "5\n",
      "('The sequence is not random with p-value: ', 0.003892417122778627)\n"
     ]
    }
   ],
   "source": [
    "n = int(raw_input(\"enter number of bits\"))\n",
    "bits = list()\n",
    "#print(bits)\n",
    "print(\"Enter bits\")\n",
    "for i in range(n):\n",
    "    bit = raw_input(\"bit: \")\n",
    "    bits.append(int(bit))\n",
    "print(len(bits))\n",
    "\n",
    "for i in range(n):\n",
    "    print(\"i is checked\")\n",
    "    if bits[i] == 0:\n",
    "        print(\"i is zero\")\n",
    "        bits[i] = -1\n",
    "\n",
    "add = 0\n",
    "print(bits)\n",
    "\n",
    "for i in bits:\n",
    "    add = add + i\n",
    "p_value = math.erfc((abs(add)/math.sqrt(3))/math.sqrt(2))\n",
    "print(abs(add))\n",
    "#For decision rule:\n",
    "if(p_value<0.01):\n",
    "    print(\"The sequence is not random with p-value: \",p_value)\n",
    "else:\n",
    "    print(\"The sequence is random with p-value: \",p_value)\n",
    "    "
   ]
  },
  {
   "cell_type": "code",
   "execution_count": 5,
   "metadata": {},
   "outputs": [
    {
     "data": {
      "text/plain": [
       "2.0"
      ]
     },
     "execution_count": 5,
     "metadata": {},
     "output_type": "execute_result"
    }
   ],
   "source": [
    "math.sqrt(4)"
   ]
  },
  {
   "cell_type": "code",
   "execution_count": null,
   "metadata": {},
   "outputs": [],
   "source": []
  }
 ],
 "metadata": {
  "kernelspec": {
   "display_name": "Python 2",
   "language": "python",
   "name": "python2"
  },
  "language_info": {
   "codemirror_mode": {
    "name": "ipython",
    "version": 2
   },
   "file_extension": ".py",
   "mimetype": "text/x-python",
   "name": "python",
   "nbconvert_exporter": "python",
   "pygments_lexer": "ipython2",
   "version": "2.7.15"
  }
 },
 "nbformat": 4,
 "nbformat_minor": 2
}
