{
 "cells": [
  {
   "cell_type": "code",
   "execution_count": 1,
   "metadata": {},
   "outputs": [],
   "source": [
    "import math"
   ]
  },
  {
   "cell_type": "code",
   "execution_count": 14,
   "metadata": {},
   "outputs": [
    {
     "name": "stdout",
     "output_type": "stream",
     "text": [
      "enter number of bits10\n",
      "Enter bits\n",
      "bit: 1\n",
      "bit: 0\n",
      "bit: 0\n",
      "bit: 1\n",
      "bit: 1\n",
      "bit: 0\n",
      "bit: 1\n",
      "bit: 0\n",
      "bit: 1\n",
      "bit: 1\n",
      "10\n",
      "6\n",
      "7\n",
      "0.6\n",
      "2.2\n",
      "0.147232255364\n",
      "('The sequence is random with p-value: ', 0.1472322553636658)\n"
     ]
    }
   ],
   "source": [
    "n = int(raw_input(\"enter number of bits\"))\n",
    "bits = list()\n",
    "#print(bits)\n",
    "print(\"Enter bits\")\n",
    "for i in range(n):\n",
    "    bit = raw_input(\"bit: \")\n",
    "    bits.append(int(bit))\n",
    "print(len(bits))\n",
    "r=1\n",
    "add = 0\n",
    "v_obs = 1\n",
    "for i in bits:\n",
    "    add = add + i\n",
    "print(add)\n",
    "\n",
    "for i in range(1,n):\n",
    "    if(bits[i-1]==bits[i]):\n",
    "        r=0\n",
    "    else:\n",
    "        r=1\n",
    "    v_obs  = v_obs + r\n",
    "add = float(add)\n",
    "n= float(n)\n",
    "ratio = float(add/n)    \n",
    "print(v_obs)\n",
    "print(ratio)\n",
    "x = (v_obs - (2*n*ratio*(1-ratio)))\n",
    "print(x)\n",
    "p_value = math.erfc(x/(2*math.sqrt(2*n)*ratio*(1-ratio)))\n",
    "print(p_value)\n",
    "\n",
    "if(p_value<0.01):\n",
    "    print(\"The sequence is not random with p-value: \",p_value)\n",
    "else:\n",
    "    print(\"The sequence is random with p-value: \",p_value)\n",
    "    \n",
    "    "
   ]
  },
  {
   "cell_type": "code",
   "execution_count": null,
   "metadata": {},
   "outputs": [],
   "source": []
  }
 ],
 "metadata": {
  "kernelspec": {
   "display_name": "Python 2",
   "language": "python",
   "name": "python2"
  },
  "language_info": {
   "codemirror_mode": {
    "name": "ipython",
    "version": 2
   },
   "file_extension": ".py",
   "mimetype": "text/x-python",
   "name": "python",
   "nbconvert_exporter": "python",
   "pygments_lexer": "ipython2",
   "version": "2.7.15"
  }
 },
 "nbformat": 4,
 "nbformat_minor": 2
}
